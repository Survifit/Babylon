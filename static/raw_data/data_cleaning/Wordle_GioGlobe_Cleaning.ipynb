{
 "cells": [
  {
   "cell_type": "code",
   "execution_count": 1,
   "metadata": {},
   "outputs": [],
   "source": [
    "#Dependencies\n",
    "import pandas as pd\n",
    "import matplotlib.pyplot as plt\n",
    "import numpy as np\n",
    "from PIL import Image\n",
    "from wordcloud import WordCloud, STOPWORDS"
   ]
  },
  {
   "cell_type": "code",
   "execution_count": 2,
   "metadata": {},
   "outputs": [],
   "source": [
    "#Store filepaths in variables\n",
    "language_keys = 'loaner_language_keys.csv'\n",
    "english = 'english_recipient.csv'"
   ]
  },
  {
   "cell_type": "code",
   "execution_count": 3,
   "metadata": {},
   "outputs": [],
   "source": [
    "keys_df = pd.read_csv(language_keys)\n",
    "english_df = pd.read_csv(english)"
   ]
  },
  {
   "cell_type": "code",
   "execution_count": 4,
   "metadata": {},
   "outputs": [
    {
     "data": {
      "text/html": [
       "<div>\n",
       "<style scoped>\n",
       "    .dataframe tbody tr th:only-of-type {\n",
       "        vertical-align: middle;\n",
       "    }\n",
       "\n",
       "    .dataframe tbody tr th {\n",
       "        vertical-align: top;\n",
       "    }\n",
       "\n",
       "    .dataframe thead th {\n",
       "        text-align: right;\n",
       "    }\n",
       "</style>\n",
       "<table border=\"1\" class=\"dataframe\">\n",
       "  <thead>\n",
       "    <tr style=\"text-align: right;\">\n",
       "      <th></th>\n",
       "      <th>lanID</th>\n",
       "      <th>Name</th>\n",
       "      <th>Macroarea</th>\n",
       "      <th>Latitude</th>\n",
       "      <th>Longitude</th>\n",
       "      <th>Glottocode</th>\n",
       "      <th>ISO639P3code</th>\n",
       "    </tr>\n",
       "  </thead>\n",
       "  <tbody>\n",
       "    <tr>\n",
       "      <th>0</th>\n",
       "      <td>1</td>\n",
       "      <td>Swahili</td>\n",
       "      <td>NaN</td>\n",
       "      <td>-6.5</td>\n",
       "      <td>39.00</td>\n",
       "      <td>swah1253</td>\n",
       "      <td>swh</td>\n",
       "    </tr>\n",
       "    <tr>\n",
       "      <th>1</th>\n",
       "      <td>2</td>\n",
       "      <td>Iraqw</td>\n",
       "      <td>NaN</td>\n",
       "      <td>-4.0</td>\n",
       "      <td>35.50</td>\n",
       "      <td>iraq1241</td>\n",
       "      <td>irk</td>\n",
       "    </tr>\n",
       "    <tr>\n",
       "      <th>2</th>\n",
       "      <td>3</td>\n",
       "      <td>Gawwada</td>\n",
       "      <td>NaN</td>\n",
       "      <td>5.5</td>\n",
       "      <td>37.25</td>\n",
       "      <td>gaww1239</td>\n",
       "      <td>gwd</td>\n",
       "    </tr>\n",
       "    <tr>\n",
       "      <th>3</th>\n",
       "      <td>4</td>\n",
       "      <td>Hausa</td>\n",
       "      <td>NaN</td>\n",
       "      <td>12.0</td>\n",
       "      <td>7.00</td>\n",
       "      <td>haus1257</td>\n",
       "      <td>hau</td>\n",
       "    </tr>\n",
       "    <tr>\n",
       "      <th>4</th>\n",
       "      <td>5</td>\n",
       "      <td>Kanuri</td>\n",
       "      <td>NaN</td>\n",
       "      <td>12.0</td>\n",
       "      <td>13.00</td>\n",
       "      <td>cent2050</td>\n",
       "      <td>knc</td>\n",
       "    </tr>\n",
       "  </tbody>\n",
       "</table>\n",
       "</div>"
      ],
      "text/plain": [
       "   lanID     Name  Macroarea  Latitude  Longitude Glottocode ISO639P3code\n",
       "0      1  Swahili        NaN      -6.5      39.00   swah1253          swh\n",
       "1      2    Iraqw        NaN      -4.0      35.50   iraq1241          irk\n",
       "2      3  Gawwada        NaN       5.5      37.25   gaww1239          gwd\n",
       "3      4    Hausa        NaN      12.0       7.00   haus1257          hau\n",
       "4      5   Kanuri        NaN      12.0      13.00   cent2050          knc"
      ]
     },
     "execution_count": 4,
     "metadata": {},
     "output_type": "execute_result"
    }
   ],
   "source": [
    "renamed_keys = keys_df.rename(columns={'ID': 'lanID'})\n",
    "renamed_keys.head()"
   ]
  },
  {
   "cell_type": "code",
   "execution_count": 5,
   "metadata": {},
   "outputs": [
    {
     "data": {
      "text/html": [
       "<div>\n",
       "<style scoped>\n",
       "    .dataframe tbody tr th:only-of-type {\n",
       "        vertical-align: middle;\n",
       "    }\n",
       "\n",
       "    .dataframe tbody tr th {\n",
       "        vertical-align: top;\n",
       "    }\n",
       "\n",
       "    .dataframe thead th {\n",
       "        text-align: right;\n",
       "    }\n",
       "</style>\n",
       "<table border=\"1\" class=\"dataframe\">\n",
       "  <thead>\n",
       "    <tr style=\"text-align: right;\">\n",
       "      <th></th>\n",
       "      <th>age_score</th>\n",
       "      <th>analyzability</th>\n",
       "      <th>borrowed</th>\n",
       "      <th>borrowed_score</th>\n",
       "      <th>description</th>\n",
       "      <th>id</th>\n",
       "      <th>jsondata</th>\n",
       "      <th>language_pk</th>\n",
       "      <th>markup_description</th>\n",
       "      <th>name</th>\n",
       "      <th>pk</th>\n",
       "      <th>simplicity_score</th>\n",
       "    </tr>\n",
       "  </thead>\n",
       "  <tbody>\n",
       "    <tr>\n",
       "      <th>0</th>\n",
       "      <td>NaN</td>\n",
       "      <td>NaN</td>\n",
       "      <td>NaN</td>\n",
       "      <td>NaN</td>\n",
       "      <td>to accuse</td>\n",
       "      <td>92181432125352379-1</td>\n",
       "      <td>{}</td>\n",
       "      <td>123</td>\n",
       "      <td>NaN</td>\n",
       "      <td>accuser</td>\n",
       "      <td>67762</td>\n",
       "      <td>NaN</td>\n",
       "    </tr>\n",
       "    <tr>\n",
       "      <th>1</th>\n",
       "      <td>NaN</td>\n",
       "      <td>NaN</td>\n",
       "      <td>NaN</td>\n",
       "      <td>NaN</td>\n",
       "      <td>to accuse</td>\n",
       "      <td>9361026888773387-1</td>\n",
       "      <td>{}</td>\n",
       "      <td>96</td>\n",
       "      <td>NaN</td>\n",
       "      <td>accusare</td>\n",
       "      <td>74361</td>\n",
       "      <td>NaN</td>\n",
       "    </tr>\n",
       "    <tr>\n",
       "      <th>2</th>\n",
       "      <td>NaN</td>\n",
       "      <td>NaN</td>\n",
       "      <td>NaN</td>\n",
       "      <td>NaN</td>\n",
       "      <td>to acquit</td>\n",
       "      <td>9218143238626268-1</td>\n",
       "      <td>{}</td>\n",
       "      <td>125</td>\n",
       "      <td>NaN</td>\n",
       "      <td>aquiter</td>\n",
       "      <td>66454</td>\n",
       "      <td>NaN</td>\n",
       "    </tr>\n",
       "    <tr>\n",
       "      <th>3</th>\n",
       "      <td>NaN</td>\n",
       "      <td>NaN</td>\n",
       "      <td>NaN</td>\n",
       "      <td>NaN</td>\n",
       "      <td>to acquit, settle a debt or dispute</td>\n",
       "      <td>92181432882123045-1</td>\n",
       "      <td>{}</td>\n",
       "      <td>96</td>\n",
       "      <td>NaN</td>\n",
       "      <td>*acquitāre</td>\n",
       "      <td>69783</td>\n",
       "      <td>NaN</td>\n",
       "    </tr>\n",
       "    <tr>\n",
       "      <th>4</th>\n",
       "      <td>NaN</td>\n",
       "      <td>NaN</td>\n",
       "      <td>NaN</td>\n",
       "      <td>NaN</td>\n",
       "      <td>address</td>\n",
       "      <td>92181432501536549-1</td>\n",
       "      <td>{}</td>\n",
       "      <td>123</td>\n",
       "      <td>NaN</td>\n",
       "      <td>adresse</td>\n",
       "      <td>60832</td>\n",
       "      <td>NaN</td>\n",
       "    </tr>\n",
       "  </tbody>\n",
       "</table>\n",
       "</div>"
      ],
      "text/plain": [
       "   age_score  analyzability  borrowed  borrowed_score  \\\n",
       "0        NaN            NaN       NaN             NaN   \n",
       "1        NaN            NaN       NaN             NaN   \n",
       "2        NaN            NaN       NaN             NaN   \n",
       "3        NaN            NaN       NaN             NaN   \n",
       "4        NaN            NaN       NaN             NaN   \n",
       "\n",
       "                           description                   id jsondata  \\\n",
       "0                            to accuse  92181432125352379-1       {}   \n",
       "1                            to accuse   9361026888773387-1       {}   \n",
       "2                            to acquit   9218143238626268-1       {}   \n",
       "3  to acquit, settle a debt or dispute  92181432882123045-1       {}   \n",
       "4                              address  92181432501536549-1       {}   \n",
       "\n",
       "   language_pk  markup_description        name     pk  simplicity_score  \n",
       "0          123                 NaN     accuser  67762               NaN  \n",
       "1           96                 NaN    accusare  74361               NaN  \n",
       "2          125                 NaN     aquiter  66454               NaN  \n",
       "3           96                 NaN  *acquitāre  69783               NaN  \n",
       "4          123                 NaN     adresse  60832               NaN  "
      ]
     },
     "execution_count": 5,
     "metadata": {},
     "output_type": "execute_result"
    }
   ],
   "source": [
    "renamed_english = english_df.rename(columns={'language_pk': 'lanID'})\n",
    "english_df.head()"
   ]
  },
  {
   "cell_type": "code",
   "execution_count": 23,
   "metadata": {
    "scrolled": true
   },
   "outputs": [],
   "source": [
    "merged = pd.merge(renamed_keys, renamed_english, how=\"inner\", on=\"lanID\")\n",
    "value_counts = merged['Name'].value_counts()\n",
    "value_counts = pd.DataFrame(value_counts)\n",
    "value_counts.to_csv(r'valueByLanguage')"
   ]
  },
  {
   "cell_type": "code",
   "execution_count": 10,
   "metadata": {},
   "outputs": [],
   "source": [
    "names = list(merged['Name'])\n",
    "#names_df = pd.DataFrame(names)\n",
    "clean_names = []\n",
    "for name in names:\n",
    "    #clean_names.append(_.join(str(name))\n",
    "    clean_names.append(name.replace(\" \", \"_\"))\n",
    "clean_names = \" \".join(clean_names)\n"
   ]
  },
  {
   "cell_type": "code",
   "execution_count": 11,
   "metadata": {},
   "outputs": [],
   "source": [
    "stopwords = set(STOPWORDS)"
   ]
  },
  {
   "cell_type": "code",
   "execution_count": 48,
   "metadata": {
    "scrolled": true
   },
   "outputs": [
    {
     "data": {
      "image/png": "[encoded data removed]",
      "text/plain": [
       "<Figure size 432x288 with 1 Axes>"
      ]
     },
     "metadata": {
      "needs_background": "light"
     },
     "output_type": "display_data"
    }
   ],
   "source": [
    "#Create Wordcloud\n",
    "wordcloud0 = WordCloud(mask=british_mask,\n",
    "                       height=600, width=600, \n",
    "                       background_color='black', \n",
    "                       colormap='YlOrRd',\n",
    "                       collocations=False).generate(clean_names)\n",
    "plt.imshow(wordcloud0, interpolation='bilinear')\n",
    "plt.axis('off')\n",
    "wordcloud0.to_file('Plot_b0.png')\n",
    "plt.show()"
   ]
  },
  {
   "cell_type": "code",
   "execution_count": 12,
   "metadata": {},
   "outputs": [],
   "source": [
    "#Globe Data\n",
    "#Use this dataframe to create lats/lons for English Loaner Languages\n",
    "merged_df = merged[['Name', 'Latitude', 'Longitude']].drop_duplicates()\n"
   ]
  },
  {
   "cell_type": "code",
   "execution_count": 62,
   "metadata": {},
   "outputs": [],
   "source": [
    "all_data_df = merged_df.append({'Name' : 'English' , 'Latitude' : 52, 'Longitude': 0} , ignore_index=True)"
   ]
  },
  {
   "cell_type": "code",
   "execution_count": 64,
   "metadata": {},
   "outputs": [],
   "source": [
    "all_data_df.to_csv(r'gio_globe')"
   ]
  },
  {
   "cell_type": "code",
   "execution_count": 65,
   "metadata": {},
   "outputs": [],
   "source": [
    "all_data_df.to_json(r'gio_globe.json')"
   ]
  },
  {
   "cell_type": "code",
   "execution_count": null,
   "metadata": {},
   "outputs": [],
   "source": []
  }
 ],
 "metadata": {
  "kernelspec": {
   "display_name": "Python 3",
   "language": "python",
   "name": "python3"
  },
  "language_info": {
   "codemirror_mode": {
    "name": "ipython",
    "version": 3
   },
   "file_extension": ".py",
   "mimetype": "text/x-python",
   "name": "python",
   "nbconvert_exporter": "python",
   "pygments_lexer": "ipython3",
   "version": "3.6.7"
  }
 },
 "nbformat": 4,
 "nbformat_minor": 2
}
