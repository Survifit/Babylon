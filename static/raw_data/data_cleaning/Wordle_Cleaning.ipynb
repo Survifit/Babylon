{
 "cells": [
  {
   "cell_type": "code",
   "execution_count": 47,
   "metadata": {},
   "outputs": [],
   "source": [
    "#Dependencies\n",
    "import pandas as pd\n",
    "import matplotlib.pyplot as plt\n",
    "import numpy as np\n",
    "from PIL import Image\n",
    "from wordcloud import WordCloud, STOPWORDS"
   ]
  },
  {
   "cell_type": "code",
   "execution_count": 2,
   "metadata": {},
   "outputs": [],
   "source": [
    "#Store filepaths in variables\n",
    "language_keys = 'loaner_language_keys.csv'\n",
    "english = 'english_loaner.csv'"
   ]
  },
  {
   "cell_type": "code",
   "execution_count": 3,
   "metadata": {},
   "outputs": [],
   "source": [
    "keys_df = pd.read_csv(language_keys)\n",
    "english_df = pd.read_csv(english)"
   ]
  },
  {
   "cell_type": "code",
   "execution_count": 4,
   "metadata": {},
   "outputs": [],
   "source": [
    "renamed_keys = keys_df.rename(columns={'ID': 'lanID'})"
   ]
  },
  {
   "cell_type": "code",
   "execution_count": 5,
   "metadata": {},
   "outputs": [],
   "source": [
    "renamed_english = english_df.rename(columns={'language_pk': 'lanID'})\n"
   ]
  },
  {
   "cell_type": "code",
   "execution_count": 6,
   "metadata": {
    "scrolled": true
   },
   "outputs": [
    {
     "data": {
      "text/html": [
       "<div>\n",
       "<style scoped>\n",
       "    .dataframe tbody tr th:only-of-type {\n",
       "        vertical-align: middle;\n",
       "    }\n",
       "\n",
       "    .dataframe tbody tr th {\n",
       "        vertical-align: top;\n",
       "    }\n",
       "\n",
       "    .dataframe thead th {\n",
       "        text-align: right;\n",
       "    }\n",
       "</style>\n",
       "<table border=\"1\" class=\"dataframe\">\n",
       "  <thead>\n",
       "    <tr style=\"text-align: right;\">\n",
       "      <th></th>\n",
       "      <th>lanID</th>\n",
       "      <th>Name</th>\n",
       "      <th>Macroarea</th>\n",
       "      <th>Latitude</th>\n",
       "      <th>Longitude</th>\n",
       "      <th>Glottocode</th>\n",
       "      <th>ISO639P3code</th>\n",
       "      <th>age_score</th>\n",
       "      <th>analyzability</th>\n",
       "      <th>borrowed</th>\n",
       "      <th>borrowed_score</th>\n",
       "      <th>description</th>\n",
       "      <th>id</th>\n",
       "      <th>jsondata</th>\n",
       "      <th>markup_description</th>\n",
       "      <th>name</th>\n",
       "      <th>pk</th>\n",
       "      <th>simplicity_score</th>\n",
       "    </tr>\n",
       "  </thead>\n",
       "  <tbody>\n",
       "    <tr>\n",
       "      <th>0</th>\n",
       "      <td>12</td>\n",
       "      <td>Dutch</td>\n",
       "      <td>NaN</td>\n",
       "      <td>52.5</td>\n",
       "      <td>6.0</td>\n",
       "      <td>dutc1256</td>\n",
       "      <td>nld</td>\n",
       "      <td>NaN</td>\n",
       "      <td>NaN</td>\n",
       "      <td>NaN</td>\n",
       "      <td>NaN</td>\n",
       "      <td>bamboo</td>\n",
       "      <td>9218143222572239-1</td>\n",
       "      <td>{}</td>\n",
       "      <td>NaN</td>\n",
       "      <td>bamboes</td>\n",
       "      <td>66193</td>\n",
       "      <td>NaN</td>\n",
       "    </tr>\n",
       "    <tr>\n",
       "      <th>1</th>\n",
       "      <td>12</td>\n",
       "      <td>Dutch</td>\n",
       "      <td>NaN</td>\n",
       "      <td>52.5</td>\n",
       "      <td>6.0</td>\n",
       "      <td>dutc1256</td>\n",
       "      <td>nld</td>\n",
       "      <td>NaN</td>\n",
       "      <td>NaN</td>\n",
       "      <td>NaN</td>\n",
       "      <td>NaN</td>\n",
       "      <td>shine, glitter</td>\n",
       "      <td>92181432463391143-1</td>\n",
       "      <td>{}</td>\n",
       "      <td>NaN</td>\n",
       "      <td>blenken</td>\n",
       "      <td>66073</td>\n",
       "      <td>NaN</td>\n",
       "    </tr>\n",
       "    <tr>\n",
       "      <th>2</th>\n",
       "      <td>12</td>\n",
       "      <td>Dutch</td>\n",
       "      <td>NaN</td>\n",
       "      <td>52.5</td>\n",
       "      <td>6.0</td>\n",
       "      <td>dutc1256</td>\n",
       "      <td>nld</td>\n",
       "      <td>NaN</td>\n",
       "      <td>NaN</td>\n",
       "      <td>NaN</td>\n",
       "      <td>NaN</td>\n",
       "      <td>salty, brackish</td>\n",
       "      <td>92181432455608033-1</td>\n",
       "      <td>{}</td>\n",
       "      <td>NaN</td>\n",
       "      <td>brak</td>\n",
       "      <td>66326</td>\n",
       "      <td>NaN</td>\n",
       "    </tr>\n",
       "    <tr>\n",
       "      <th>3</th>\n",
       "      <td>12</td>\n",
       "      <td>Dutch</td>\n",
       "      <td>NaN</td>\n",
       "      <td>52.5</td>\n",
       "      <td>6.0</td>\n",
       "      <td>dutc1256</td>\n",
       "      <td>nld</td>\n",
       "      <td>NaN</td>\n",
       "      <td>NaN</td>\n",
       "      <td>NaN</td>\n",
       "      <td>NaN</td>\n",
       "      <td>brick</td>\n",
       "      <td>92181432368992394-1</td>\n",
       "      <td>{}</td>\n",
       "      <td>NaN</td>\n",
       "      <td>bricke</td>\n",
       "      <td>69587</td>\n",
       "      <td>NaN</td>\n",
       "    </tr>\n",
       "    <tr>\n",
       "      <th>4</th>\n",
       "      <td>12</td>\n",
       "      <td>Dutch</td>\n",
       "      <td>NaN</td>\n",
       "      <td>52.5</td>\n",
       "      <td>6.0</td>\n",
       "      <td>dutc1256</td>\n",
       "      <td>nld</td>\n",
       "      <td>NaN</td>\n",
       "      <td>NaN</td>\n",
       "      <td>NaN</td>\n",
       "      <td>NaN</td>\n",
       "      <td>bell</td>\n",
       "      <td>92181432667935245-1</td>\n",
       "      <td>{}</td>\n",
       "      <td>NaN</td>\n",
       "      <td>klokke</td>\n",
       "      <td>66319</td>\n",
       "      <td>NaN</td>\n",
       "    </tr>\n",
       "  </tbody>\n",
       "</table>\n",
       "</div>"
      ],
      "text/plain": [
       "   lanID   Name  Macroarea  Latitude  Longitude Glottocode ISO639P3code  \\\n",
       "0     12  Dutch        NaN      52.5        6.0   dutc1256          nld   \n",
       "1     12  Dutch        NaN      52.5        6.0   dutc1256          nld   \n",
       "2     12  Dutch        NaN      52.5        6.0   dutc1256          nld   \n",
       "3     12  Dutch        NaN      52.5        6.0   dutc1256          nld   \n",
       "4     12  Dutch        NaN      52.5        6.0   dutc1256          nld   \n",
       "\n",
       "   age_score  analyzability  borrowed  borrowed_score      description  \\\n",
       "0        NaN            NaN       NaN             NaN           bamboo   \n",
       "1        NaN            NaN       NaN             NaN   shine, glitter   \n",
       "2        NaN            NaN       NaN             NaN  salty, brackish   \n",
       "3        NaN            NaN       NaN             NaN            brick   \n",
       "4        NaN            NaN       NaN             NaN             bell   \n",
       "\n",
       "                    id jsondata  markup_description     name     pk  \\\n",
       "0   9218143222572239-1       {}                 NaN  bamboes  66193   \n",
       "1  92181432463391143-1       {}                 NaN  blenken  66073   \n",
       "2  92181432455608033-1       {}                 NaN     brak  66326   \n",
       "3  92181432368992394-1       {}                 NaN   bricke  69587   \n",
       "4  92181432667935245-1       {}                 NaN   klokke  66319   \n",
       "\n",
       "   simplicity_score  \n",
       "0               NaN  \n",
       "1               NaN  \n",
       "2               NaN  \n",
       "3               NaN  \n",
       "4               NaN  "
      ]
     },
     "execution_count": 6,
     "metadata": {},
     "output_type": "execute_result"
    }
   ],
   "source": [
    "merged = pd.merge(renamed_keys, renamed_english, how=\"inner\", on=\"lanID\")\n",
    "merged.head()"
   ]
  },
  {
   "cell_type": "code",
   "execution_count": 62,
   "metadata": {},
   "outputs": [
    {
     "data": {
      "text/plain": [
       "'Dutch Dutch Dutch Dutch Dutch Dutch Dutch Dutch Dutch Dutch Dutch Dutch Dutch Dutch Dutch Dutch Dutch Dutch Dutch Dutch Dutch Dutch Mapudungun Algonquian_(Powhatan) Algonquian_(Powhatan) Arabic Arabic Arabic Arabic Arabic Arabic Arabic Arabic Celtic Celtic Celtic Min Latin Latin Latin Latin Latin Latin Latin Latin Latin Latin Latin Latin Latin Latin Latin Latin Latin Latin Latin Latin Latin Latin Latin Latin Latin Latin Latin Latin Latin Latin Latin Latin Latin Latin Latin Latin Latin Latin Latin Latin Latin Latin Latin Latin Latin Latin Latin Latin Latin Latin Latin Latin Latin Latin Latin Latin Latin Latin Latin Latin Latin Latin Latin Latin Latin Latin Latin Latin Latin Latin Latin Latin Latin Latin Latin Latin Latin Latin Latin Latin Latin Latin Latin Latin Latin Latin Latin Latin Latin Latin Latin Latin Latin Latin Latin Latin Latin Latin Latin Latin Latin Latin Latin Latin Latin Latin Latin Latin Latin Latin Latin Latin Latin Latin Latin Latin Latin Latin Latin Latin Latin Latin Latin Latin Latin Latin Latin Latin Latin Latin Latin Latin Latin Latin Latin Latin Latin Latin Latin Latin Latin Latin Latin Latin Latin Latin Latin Latin Latin Latin Latin Latin Latin Latin Latin Latin Latin Latin Latin Latin Latin Latin Latin Latin Latin Latin Latin Latin Latin Latin Latin Latin Latin Latin Latin Latin Latin Latin Latin Latin Latin Latin Latin Latin Latin Latin Latin Latin Latin Latin Latin Latin Latin Latin Latin Latin Latin Latin Latin Latin Latin Latin Latin Latin Latin Latin Latin Latin Latin Latin Latin Latin Latin Latin Latin Latin Latin Latin Latin Latin Latin Latin Latin Latin Latin Latin Latin Latin Latin Latin Latin Latin Latin Latin Latin Latin Latin Latin Latin Latin Latin Latin Latin Latin Latin Latin Latin Latin Latin Latin Latin Latin Latin Latin Latin Latin Latin Latin Latin Latin Latin Latin Latin Latin Latin Latin Latin Latin Latin Latin Latin Latin Latin Latin Latin Latin Latin Latin Latin Latin Latin Latin Latin Latin Latin Latin Latin Latin Latin Latin Latin Latin Latin Latin Latin Latin Latin Latin Latin Latin Latin Latin Latin Latin Latin Latin Latin Latin Latin Latin Latin Latin Latin Latin Latin Latin Latin Latin Latin Latin Latin Latin Latin Latin Latin Latin Latin Latin Latin Latin Latin Latin Latin Latin Latin Latin Latin Latin Latin Latin Latin Latin Latin Latin Latin Latin Latin Latin Latin Latin Latin Latin Latin Latin Latin Germanic Germanic Germanic Germanic Germanic Germanic Germanic Germanic Germanic Germanic Germanic Germanic Coptic Dharuk Eastern_Abenaki Spanish Spanish Spanish Spanish Spanish Spanish Spanish Spanish Spanish Spanish Spanish Spanish Spanish Spanish Spanish Spanish Spanish Spanish Frankish Frankish French French French French French French French French French French French French French French French French French French French French French French French French French French French French French French French French French French French French French French French French French French French French French French French French French French French French French French French French French French French French French French French French French French French French French French French French French French French French French French French French French French French French French French French French French French French French French French French French French French French French French French French French French French French French French French French French French French French French French French French French French French French French French French French French French French French French French French French French French French French French French French French French French French French French French French French French French French French French French French French French French French French French French French French French French French French French French French French French French French French French French French French French French French French French French French_(Anglo-Norman) French_(Anglo-Norman) French_(Anglo-Norman) French_(Anglo-Norman) French_(Anglo-Norman) French_(Anglo-Norman) French_(Anglo-Norman) French_(Anglo-Norman) French_(Anglo-Norman) French_(Anglo-Norman) French_(Anglo-Norman) French_(Anglo-Norman) French_(Anglo-Norman) French_(Anglo-Norman) French_(Anglo-Norman) French_(Anglo-Norman) French_(Anglo-Norman) French_(Anglo-Norman) French_(Anglo-Norman) French_(Anglo-Norman) French_(Anglo-Norman) French_(Anglo-Norman) French_(Anglo-Norman) French_(Anglo-Norman) French_(Anglo-Norman) French_(Anglo-Norman) French_(Anglo-Norman) French_(Anglo-Norman) French_(Anglo-Norman) French_(Anglo-Norman) French_(Anglo-Norman) French_(Anglo-Norman) French_(Anglo-Norman) French_(Anglo-Norman) French_(Anglo-Norman) French_(Anglo-Norman) French_(Anglo-Norman) French_(Anglo-Norman) French_(Anglo-Norman) French_(Anglo-Norman) French_(Anglo-Norman) French_(Anglo-Norman) French_(Anglo-Norman) French_(Anglo-Norman) French_(Anglo-Norman) French_(Anglo-Norman) French_(Anglo-Norman) French_(Anglo-Norman) French_(Anglo-Norman) French_(Anglo-Norman) French_(Anglo-Norman) French_(Anglo-Norman) French_(Anglo-Norman) French_(Anglo-Norman) French_(Anglo-Norman) French_(Anglo-Norman) French_(Anglo-Norman) French_(Anglo-Norman) French_(Anglo-Norman) French_(Anglo-Norman) French_(Anglo-Norman) French_(Anglo-Norman) French_(Anglo-Norman) French_(Anglo-Norman) French_(Anglo-Norman) French_(Anglo-Norman) French_(Anglo-Norman) French_(Anglo-Norman) French_(Anglo-Norman) French_(Anglo-Norman) French_(Anglo-Norman) French_(Anglo-Norman) French_(Anglo-Norman) French_(Anglo-Norman) French_(Anglo-Norman) French_(Anglo-Norman) French_(Anglo-Norman) French_(Anglo-Norman) French_(Anglo-Norman) French_(Anglo-Norman) French_(Anglo-Norman) French_(Anglo-Norman) French_(Anglo-Norman) French_(Anglo-Norman) French_(Anglo-Norman) French_(Anglo-Norman) French_(Anglo-Norman) French_(Anglo-Norman) French_(Anglo-Norman) French_(Anglo-Norman) French_(Anglo-Norman) French_(Anglo-Norman) French_(Anglo-Norman) French_(Anglo-Norman) French_(Anglo-Norman) French_(Anglo-Norman) French_(Anglo-Norman) French_(Anglo-Norman) French_(Anglo-Norman) French_(Anglo-Norman) French_(Anglo-Norman) French_(Anglo-Norman) French_(Anglo-Norman) French_(Anglo-Norman) French_(Anglo-Norman) French_(Anglo-Norman) French_(Anglo-Norman) French_(Anglo-Norman) French_(Anglo-Norman) French_(Anglo-Norman) French_(Anglo-Norman) French_(Anglo-Norman) French_(Anglo-Norman) French_(Anglo-Norman) French_(Anglo-Norman) French_(Anglo-Norman) French_(Anglo-Norman) French_(Anglo-Norman) French_(Anglo-Norman) French_(Anglo-Norman) French_(Anglo-Norman) French_(Anglo-Norman) French_(Anglo-Norman) French_(Anglo-Norman) French_(Anglo-Norman) French_(Anglo-Norman) French_(Anglo-Norman) French_(Anglo-Norman) French_(Anglo-Norman) French_(Anglo-Norman) French_(Anglo-Norman) French_(Anglo-Norman) French_(Anglo-Norman) Old_French Old_French Old_French Old_French Old_French Old_French Old_French Old_French Old_French Old_French Old_French Old_French Old_French Old_French Old_French Old_French Old_French Old_French Old_French Old_French Old_French Old_French Old_French Old_French Old_French Old_French Old_French Old_French Old_French Old_French Old_French Old_French Old_French Old_French Old_French Old_French Old_French Old_French Old_French Old_French Old_French Old_French Old_French Old_French Old_French Old_French Old_French French_(Walloon) German Middle_High_German Middle_Low_German Middle_Low_German Middle_Low_German Middle_Low_German Middle_Low_German Middle_Low_German Middle_Low_German Middle_Low_German Middle_Low_German Middle_Low_German Middle_Low_German Middle_Low_German Middle_Low_German Middle_Low_German Middle_Low_German Middle_Low_German West_Germanic Greek Greek Greek Greek Greek Greek Greek Greek Greek Greek Greek Greek Greek Greek Greek Greek Greek Greek Greek Greek Greek Greek Greek Greek Greek Greek Greek Greek Greek Greek Greek Greek Greek Greek Greek Greek Greek Greek Greek Greek Greek Greek Greek Greek Greek Greek Greek Greek Greek Greek Greek Greek Greek Greek Greek Greek Guugu_Yimidhirr Hebrew Italian Italian Italian Italian Kannada Late_Latin Late_Latin Late_Latin Late_Latin Late_Latin Late_Latin Late_Latin Late_Latin Late_Latin Late_Latin Late_Latin Late_Latin Late_Latin Late_Latin Late_Latin Late_Latin Late_Latin Late_Latin Late_Latin Late_Latin Late_Latin Late_Latin Late_Latin Late_Latin Late_Latin Late_Latin Late_Latin Late_Latin Late_Latin Late_Latin Late_Latin Late_Latin Late_Latin Late_Latin Late_Latin Late_Latin Late_Latin Late_Latin Late_Latin Late_Latin Late_Latin Late_Latin Late_Latin Late_Latin Late_Latin Late_Latin Late_Latin Late_Latin Late_Latin Late_Latin Late_Latin Late_Latin Late_Latin Late_Latin Vulgar_Latin Vulgar_Latin Malay Middle_Dutch Middle_Dutch Middle_French Middle_French Middle_French Middle_French Middle_French Middle_French Middle_French Middle_French Middle_French Middle_French Middle_French Middle_French Middle_French Middle_French Middle_French Middle_North_Germanic Mikmaq Mongolian Nahuatl Nahuatl Narragansett Norwegian Occitan Occitan Sanskrit Sanskrit Old_Norse Old_Norse Old_Norse Old_Norse Old_Norse Old_Norse Old_Norse Old_Norse Old_Norse Old_Norse Old_Norse Old_Norse Old_Norse Old_Norse Old_Norse Old_Norse Old_Norse Old_Norse Old_Norse Old_Norse Old_Norse Old_Norse Old_Norse Old_Norse Old_Norse Old_Norse Old_Norse Old_Norse Old_Norse Old_Norse Old_Norse Old_Norse Old_Norse Old_Norse Old_Norse Old_Norse Old_Norse Old_Norse Old_Norse Old_Norse Old_Norse Old_Norse Old_Norse Old_Norse Old_Norse Old_Norse Old_Norse Old_Norse Old_Norse Old_Norse Old_Norse Old_Norse Old_Norse Old_Norse Old_Persian Phoenician Portuguese Portuguese Portuguese Portuguese Proto-Germanic Proto-Germanic Proto-Germanic Proto-Semitic Gaelic_(Scottish) Gaelic_(Scottish) Tahitian Taino Taino Taino Taino Taino Taino Taino Tamil Tamil Tupí Tupí Tupí Tupí Unidentified Unidentified Unidentified Unidentified Unidentified Welsh Welsh Wolof'"
      ]
     },
     "execution_count": 62,
     "metadata": {},
     "output_type": "execute_result"
    }
   ],
   "source": [
    "names = list(merged['Name'])\n",
    "#names_df = pd.DataFrame(names)\n",
    "clean_names = []\n",
    "for name in names:\n",
    "    #clean_names.append(_.join(str(name))\n",
    "    clean_names.append(name.replace(\" \", \"_\"))\n",
    "clean_names = \" \".join(clean_names)\n",
    "clean_names"
   ]
  },
  {
   "cell_type": "code",
   "execution_count": 35,
   "metadata": {},
   "outputs": [],
   "source": [
    "names.to_csv(r'english_loanerB', index=False)"
   ]
  },
  {
   "cell_type": "code",
   "execution_count": 36,
   "metadata": {
    "scrolled": true
   },
   "outputs": [],
   "source": [
    "dataset = open(\"english_loanerB\", \"r\").read()"
   ]
  },
  {
   "cell_type": "code",
   "execution_count": 37,
   "metadata": {},
   "outputs": [],
   "source": [
    "stopwords = set(STOPWORDS)"
   ]
  },
  {
   "cell_type": "code",
   "execution_count": 26,
   "metadata": {},
   "outputs": [],
   "source": [
    "#if extra_stopwords is not None:\n",
    "   # [stopwords.add(word) for word in extra_stopwords]"
   ]
  },
  {
   "cell_type": "code",
   "execution_count": 38,
   "metadata": {},
   "outputs": [],
   "source": [
    "wc = WordCloud(background_color = 'blue', max_words = 500, stopwords=stopwords)"
   ]
  },
  {
   "cell_type": "code",
   "execution_count": 39,
   "metadata": {},
   "outputs": [
    {
     "data": {
      "text/plain": [
       "<wordcloud.wordcloud.WordCloud at 0x1d291fb0630>"
      ]
     },
     "execution_count": 39,
     "metadata": {},
     "output_type": "execute_result"
    }
   ],
   "source": [
    "wc"
   ]
  },
  {
   "cell_type": "code",
   "execution_count": 76,
   "metadata": {},
   "outputs": [
    {
     "data": {
      "image/png": "[encoded data removed]",
      "text/plain": [
       "<Figure size 432x288 with 1 Axes>"
      ]
     },
     "metadata": {
      "needs_background": "light"
     },
     "output_type": "display_data"
    }
   ],
   "source": [
    "##wc.generate(dataset)\n",
    "# create coloring from image\n",
    "#image_colors = ImageColorGenerator(mask)\n",
    "##plt.figure(figsize=[7,7])\n",
    "#plt.imshow(wc.recolor(color_func=image_colors), interpolation=\"bilinear\")\n",
    "##plt.axis(\"off\")\n",
    "##plt.show()\n",
    "\n",
    "\n",
    "\n",
    "wordcloud0 = WordCloud(height=600, width=600, background_color='white', collocations=False).generate(clean_names)\n",
    "plt.imshow(wordcloud0, interpolation='bilinear')\n",
    "plt.axis('off')\n",
    "wordcloud0.to_file('Plot_b0.png')\n",
    "plt.show()"
   ]
  },
  {
   "cell_type": "code",
   "execution_count": null,
   "metadata": {},
   "outputs": [],
   "source": []
  }
 ],
 "metadata": {
  "kernelspec": {
   "display_name": "Python 3",
   "language": "python",
   "name": "python3"
  },
  "language_info": {
   "codemirror_mode": {
    "name": "ipython",
    "version": 3
   },
   "file_extension": ".py",
   "mimetype": "text/x-python",
   "name": "python",
   "nbconvert_exporter": "python",
   "pygments_lexer": "ipython3",
   "version": "3.6.7"
  }
 },
 "nbformat": 4,
 "nbformat_minor": 2
}
