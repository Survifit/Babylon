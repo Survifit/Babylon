{
 "cells": [
  {
   "cell_type": "code",
   "execution_count": 1,
   "metadata": {},
   "outputs": [],
   "source": [
    "import pandas as pd\n",
    "import json\n"
   ]
  },
  {
   "cell_type": "code",
   "execution_count": 17,
   "metadata": {},
   "outputs": [
    {
     "name": "stdout",
     "output_type": "stream",
     "text": [
      "[{'e': 'NL', 'i': 'GB', 'v': 22}, {'e': 'CL', 'i': 'GB', 'v': 1}, {'e': 'US', 'i': 'GB', 'v': 2000}, {'e': 'DZ', 'i': 'GB', 'v': 8}, {'e': 'IE', 'i': 'GB', 'v': 3}, {'e': 'TW', 'i': 'GB', 'v': 1}, {'e': 'IT', 'i': 'GB', 'v': 355}, {'e': 'DE', 'i': 'GB', 'v': 12}, {'e': 'EG', 'i': 'GB', 'v': 1}, {'e': 'AU', 'i': 'GB', 'v': 1}, {'e': 'CA', 'i': 'GB', 'v': 1}, {'e': 'ES', 'i': 'GB', 'v': 18}, {'e': 'FR', 'i': 'GB', 'v': 2}, {'e': 'FR', 'i': 'GB', 'v': 189}, {'e': 'FR', 'i': 'GB', 'v': 133}, {'e': 'FR', 'i': 'GB', 'v': 47}, {'e': 'FR', 'i': 'GB', 'v': 1}, {'e': 'DE', 'i': 'GB', 'v': 1}, {'e': 'DE', 'i': 'GB', 'v': 1}, {'e': 'DE', 'i': 'GB', 'v': 16}, {'e': 'DE', 'i': 'GB', 'v': 1}, {'e': 'GR', 'i': 'GB', 'v': 56}, {'e': 'AU', 'i': 'GB', 'v': 1}, {'e': 'IL', 'i': 'GB', 'v': 1}, {'e': 'IT', 'i': 'GB', 'v': 4}, {'e': 'IN', 'i': 'GB', 'v': 1}, {'e': 'IT', 'i': 'GB', 'v': 54}, {'e': 'IT', 'i': 'GB', 'v': 2}, {'e': 'MY', 'i': 'GB', 'v': 1}, {'e': 'NL', 'i': 'GB', 'v': 2}, {'e': 'FR', 'i': 'GB', 'v': 15}, {'e': 'NO', 'i': 'GB', 'v': 1}, {'e': 'CA', 'i': 'GB', 'v': 1}, {'e': 'MN', 'i': 'GB', 'v': 1}, {'e': 'MX', 'i': 'GB', 'v': 2}, {'e': 'US', 'i': 'GB', 'v': 1}, {'e': 'NO', 'i': 'GB', 'v': 1}, {'e': 'FR', 'i': 'GB', 'v': 2}, {'e': 'IN', 'i': 'GB', 'v': 2}, {'e': 'AT', 'i': 'GB', 'v': 54}, {'e': 'IR', 'i': 'GB', 'v': 1}, {'e': 'LB', 'i': 'GB', 'v': 1}, {'e': 'PT', 'i': 'GB', 'v': 4}, {'e': 'DK', 'i': 'GB', 'v': 3}, {'e': 'IQ', 'i': 'GB', 'v': 1}, {'e': 'PF', 'i': 'GB', 'v': 2}, {'e': 'BS', 'i': 'GB', 'v': 1}, {'e': 'IN', 'i': 'GB', 'v': 7}, {'e': 'BR', 'i': 'GB', 'v': 2}, {'e': 'SN', 'i': 'GB', 'v': 2}]\n"
     ]
    }
   ],
   "source": [
    "with open('importdata.json') as json_file:\n",
    "    data = json.load(json_file)\n",
    "    print(data)\n",
    "import_df = pd.DataFrame(data)\n",
    "import_df.to_csv('importdata.csv', index=False)"
   ]
  },
  {
   "cell_type": "code",
   "execution_count": null,
   "metadata": {},
   "outputs": [],
   "source": []
  }
 ],
 "metadata": {
  "kernelspec": {
   "display_name": "Python 3",
   "language": "python",
   "name": "python3"
  },
  "language_info": {
   "codemirror_mode": {
    "name": "ipython",
    "version": 3
   },
   "file_extension": ".py",
   "mimetype": "text/x-python",
   "name": "python",
   "nbconvert_exporter": "python",
   "pygments_lexer": "ipython3",
   "version": "3.7.1"
  }
 },
 "nbformat": 4,
 "nbformat_minor": 2
}
